{
  "nbformat": 4,
  "nbformat_minor": 0,
  "metadata": {
    "colab": {
      "name": "pdfmining.ipynb",
      "provenance": []
    },
    "kernelspec": {
      "name": "python3",
      "display_name": "Python 3"
    }
  },
  "cells": [
    {
      "cell_type": "code",
      "metadata": {
        "id": "IyvDVu_iCfFu",
        "colab_type": "code",
        "colab": {}
      },
      "source": [
        "! sudo apt-get install build-essential libpoppler-cpp-dev pkg-config python-dev"
      ],
      "execution_count": 0,
      "outputs": []
    },
    {
      "cell_type": "code",
      "metadata": {
        "id": "-0rVCRSDC9Ji",
        "colab_type": "code",
        "colab": {}
      },
      "source": [
        "! pip install pdftotext"
      ],
      "execution_count": 0,
      "outputs": []
    },
    {
      "cell_type": "code",
      "metadata": {
        "id": "6cneaQSSD1-w",
        "colab_type": "code",
        "colab": {}
      },
      "source": [
        "import pdftotext"
      ],
      "execution_count": 0,
      "outputs": []
    },
    {
      "cell_type": "code",
      "metadata": {
        "id": "YvglGNFhDMwW",
        "colab_type": "code",
        "outputId": "79adfc45-c078-435d-b2cc-d545f7cb3b23",
        "colab": {
          "base_uri": "https://localhost:8080/",
          "height": 595
        }
      },
      "source": [
        "with open('/content/9b2ca71c4efa9b0ff91ffcaee034f460.pdf', \"rb\") as f:\n",
        "    pdf = pdftotext.PDF(f)\n",
        "\n",
        "    print(len(pdf))\n",
        "\n",
        "    page1 = pdf[0]\n",
        "\n",
        "    \n",
        "\n",
        "    "
      ],
      "execution_count": 0,
      "outputs": [
        {
          "output_type": "stream",
          "text": [
            "2\n",
            "     IN THE COURT OF JUDICIAL MAGISTRATE F.C., NEWASA\n",
            "                                AT NEWASA\n",
            "S.T.C. No. 303/2014                                          Exh. No. 2\n",
            "1.     Date of offence            : 07/07/2014\n",
            "2.     Date of Complaint          : 07/07/2014\n",
            "3.     Name of Complainant        : State of Maharashtra, through-\n",
            "                                    Dadasaheb Pandharinath Garad\n",
            "                                    Police Naik, B No. 1863, P.S. Newasa\n",
            "4.     Name of accused            : Suresh Punjaram Sable, age - 42\n",
            "                                    R/o Valadgaon, Tal. Aurangabad\n",
            "5.    Particulars of offence      :\n",
            "       That you on 07/07/2014 at about 10.45 hours in front of Hotel Abhishek,\n",
            "at Newasa Fata on Aurangabad road, Tal. Newasa were found driving your\n",
            "vehicle Tata Magic No. MH/20/BN/3528 without having permit of carrying\n",
            "passengers and found carrying 11 passengers in it and that you thereby\n",
            "committed an offence under Sec. 66(1) r/w Sec. 192 of Motor Vehicles Act and\n",
            "within my cognizance.\n",
            "       Lastly, on the abovesaid day date, time and place, you failed to produce\n",
            "original documents regarding your vehicle and thereby committed an offence\n",
            "under Sec. 158 r/w Sec. 177 of Motor Vehicles Act and within my cognizance.\n",
            "6.  Plea of the Accused\n",
            "Q. No.1       Have you received the copies of police papers?\n",
            "A.            Yes.\n",
            "Q. No.2       Have you understood the particulars of offence now read\n",
            "              over and explained to you in vernacular?\n",
            "A.            Yes.\n",
            "Q. No.3       Do you plead guilty?\n",
            "A.            I plead guilty.\n",
            "Date :- 07/07/2014                                     (N.N. Patil )\n",
            "                                                Judicial Magistrate F.C.\n",
            "                                                        Newasa\n",
            "Accused--------------------\n",
            "\n"
          ],
          "name": "stdout"
        }
      ]
    },
    {
      "cell_type": "code",
      "metadata": {
        "id": "oYXQmWXuD-rq",
        "colab_type": "code",
        "colab": {}
      },
      "source": [
        ""
      ],
      "execution_count": 0,
      "outputs": []
    },
    {
      "cell_type": "code",
      "metadata": {
        "id": "EjPWpnzRDfpP",
        "colab_type": "code",
        "colab": {}
      },
      "source": [
        ""
      ],
      "execution_count": 0,
      "outputs": []
    }
  ]
}